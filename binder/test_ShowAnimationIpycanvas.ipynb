{
 "cells": [
  {
   "cell_type": "code",
   "execution_count": null,
   "metadata": {},
   "outputs": [],
   "source": [
    "from pylib import microsoro\n"
   ]
  },
  {
   "cell_type": "code",
   "execution_count": null,
   "metadata": {},
   "outputs": [],
   "source": [
    "state = microsoro.State()\n",
    "microsoro.conditioners.ApplySpin(omega=1.0)(state)\n",
    "microsoro.conditioners.ApplyPropel(dvx=0.5, dvy=1.0)(state)\n",
    "\n",
    "style = microsoro.Style(time_dilation=2.0)\n",
    "show_animation_component = microsoro.components.ShowAnimationIpycanvas()\n",
    "pace_walltime_component = microsoro.components.PaceToWalltime()\n",
    "apply_velocity_component = microsoro.components.ApplyVelocity()\n",
    "incr_time_component = microsoro.components.ApplyIncrementElapsedTime()\n",
    "show_animation_component(state)\n",
    "for _frame in range(10000):\n",
    "    apply_velocity_component(state)\n",
    "    show_animation_component(state)\n",
    "    pace_walltime_component(state)\n",
    "    incr_time_component(state)\n"
   ]
  }
 ],
 "metadata": {
  "kernelspec": {
   "display_name": "Python 3",
   "language": "python",
   "name": "python3"
  },
  "language_info": {
   "codemirror_mode": {
    "name": "ipython",
    "version": 3
   },
   "file_extension": ".py",
   "mimetype": "text/x-python",
   "name": "python",
   "nbconvert_exporter": "python",
   "pygments_lexer": "ipython3"
  }
 },
 "nbformat": 4,
 "nbformat_minor": 5
}
