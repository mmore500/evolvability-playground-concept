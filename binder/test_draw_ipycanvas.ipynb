{
 "cells": [
  {
   "cell_type": "code",
   "execution_count": null,
   "metadata": {},
   "outputs": [],
   "source": [
    "from ipycanvas import Canvas as ipy_Canvas\n",
    "\n",
    "from pylib import microsoro\n"
   ]
  },
  {
   "cell_type": "code",
   "execution_count": null,
   "metadata": {},
   "outputs": [],
   "source": [
    "style = microsoro.Style(scale=10)\n",
    "scale = style.scale\n",
    "\n",
    "canvas = ipy_Canvas(\n",
    "    height=style.ylim_length * scale, width=style.xlim_length * scale\n",
    ")\n",
    "display(canvas)\n"
   ]
  },
  {
   "cell_type": "code",
   "execution_count": null,
   "metadata": {},
   "outputs": [],
   "source": [
    "state = microsoro.State()\n",
    "\n",
    "__ = microsoro.draw_ipycanvas_State(state, canvas, style)\n"
   ]
  }
 ],
 "metadata": {
  "kernelspec": {
   "display_name": "Python 3",
   "language": "python",
   "name": "python3"
  },
  "language_info": {
   "codemirror_mode": {
    "name": "ipython",
    "version": 3
   },
   "file_extension": ".py",
   "mimetype": "text/x-python",
   "name": "python",
   "nbconvert_exporter": "python",
   "pygments_lexer": "ipython3"
  }
 },
 "nbformat": 4,
 "nbformat_minor": 5
}
