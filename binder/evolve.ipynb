{
 "cells": [
  {
   "cell_type": "code",
   "execution_count": null,
   "metadata": {},
   "outputs": [],
   "source": [
    "import random\n",
    "import typing\n",
    "\n",
    "import numpy as np\n",
    "\n",
    "from pylib import microsoro\n",
    "\n",
    "np.random.seed(1)\n",
    "random.seed(1)\n"
   ]
  },
  {
   "cell_type": "code",
   "execution_count": null,
   "metadata": {},
   "outputs": [],
   "source": [
    "microsoro.defaults.k = 1e4\n",
    "microsoro.defaults.b = 50\n",
    "microsoro.defaults.b_lim = 10, 100\n",
    "microsoro.defaults.dt = 0.001\n",
    "microsoro.defaults.k_lim = (1e4, 5e4)\n",
    "microsoro.defaults.m_lim = (1, 10)\n",
    "microsoro.defaults.l_lim = (0.2, 1.5)\n",
    "\n",
    "style = microsoro.Style()\n",
    "style.ylim = (-5, 10)\n",
    "style.time_dilation = 2\n",
    "style.scale = 20\n",
    "\n",
    "\n",
    "def evaluate_structure(\n",
    "    structure: microsoro.Structure, viz: bool = True\n",
    ") -> float:\n",
    "    return (\n",
    "        microsoro.perform_simulation(\n",
    "            setup_regimen_conditioners=[\n",
    "                microsoro.conditioners.ApplyTranslate(dpx=3, dpy=4),\n",
    "                microsoro.conditioners.ApplyPropel(dvx=-10, dvy=-2),\n",
    "                microsoro.conditioners.ApplySpin(360.0),\n",
    "                microsoro.conditioners.ApplyRotate(18),\n",
    "            ],\n",
    "            update_regimen_components=[\n",
    "                *microsoro.get_default_update_regimen(structure=structure),\n",
    "                microsoro.components.ApplyFloorBounce(m=-1, b=6),\n",
    "                microsoro.components.EvaluateDuration(\n",
    "                    microsoro.components.BundleComponents(\n",
    "                        microsoro.components.HaltPastFinishLine(\n",
    "                            b=-14.0,\n",
    "                            m=1.0,\n",
    "                            independent_axis=\"horizontal\",\n",
    "                            comparator=lambda a, b: np.all(np.less(a, b)),\n",
    "                        ),\n",
    "                        microsoro.components.HaltAfterElapsedTime(10.0),\n",
    "                    ),\n",
    "                ),\n",
    "                microsoro.components.BundleComponents(\n",
    "                    microsoro.components.PaceToWalltime(style=style),\n",
    "                    # switch comment-out to save video instead of showing animation\n",
    "                    microsoro.components.ShowAnimationIpycanvas(style=style),\n",
    "                    # microsoro.components.SaveVideoPyglet(\"evolved.mp4\", style=style),\n",
    "                )\n",
    "                if viz\n",
    "                else microsoro.components.NopComponent(),\n",
    "            ],\n",
    "        ),\n",
    "    )\n"
   ]
  },
  {
   "cell_type": "code",
   "execution_count": null,
   "metadata": {},
   "outputs": [],
   "source": [
    "def evaluate(individual: np.ndarray, viz: bool = False) -> float:\n",
    "    b, k, l, m = (individual[i, :, :] for i in range(4))\n",
    "\n",
    "    structure = microsoro.Structure.make_from_bytes(b=b, k=k, l=l, m=m)\n",
    "    try:\n",
    "        return evaluate_structure(structure, viz=viz)\n",
    "    except Exception as e:\n",
    "        print(f\"exception! {e}\")\n",
    "        return 1e9\n"
   ]
  },
  {
   "cell_type": "markdown",
   "metadata": {},
   "source": [
    "# Make random structure and evaluate\n"
   ]
  },
  {
   "cell_type": "code",
   "execution_count": null,
   "metadata": {},
   "outputs": [],
   "source": [
    "structure = microsoro.Structure.make_random(\n",
    "    interpolate_from_height=4, interpolate_from_width=4\n",
    ")\n",
    "evaluate_structure(structure, viz=False)\n"
   ]
  },
  {
   "cell_type": "code",
   "execution_count": null,
   "metadata": {},
   "outputs": [],
   "source": [
    "evaluate_structure(structure, viz=True)\n"
   ]
  },
  {
   "cell_type": "markdown",
   "metadata": {},
   "source": [
    "# Evolve\n"
   ]
  },
  {
   "cell_type": "code",
   "execution_count": null,
   "metadata": {},
   "outputs": [],
   "source": [
    "from multiprocessing import Pool\n",
    "import random\n",
    "\n",
    "from deap import base, creator, tools, algorithms\n",
    "import numpy as np\n",
    "from tqdm import tqdm\n",
    "\n",
    "\n",
    "# Initialize DEAP\n",
    "creator.create(\"FitnessMin\", base.Fitness, weights=(-1.0,))  # minimize t\n",
    "creator.create(\"Individual\", np.ndarray, fitness=creator.FitnessMin)\n",
    "\n",
    "toolbox = base.Toolbox()\n",
    "\n",
    "# Attribute generator for 4x4 2D array\n",
    "def create_4x4x4_matrix():\n",
    "    return np.random.randint(0, 256, (4, 4, 4))\n",
    "\n",
    "\n",
    "toolbox.register(\"attr_matrix\", create_4x4x4_matrix)\n",
    "\n",
    "# Structure initializers\n",
    "toolbox.register(\n",
    "    \"individual\", tools.initIterate, creator.Individual, toolbox.attr_matrix\n",
    ")\n",
    "toolbox.register(\"population\", tools.initRepeat, list, toolbox.individual)\n",
    "\n",
    "# Operators\n",
    "toolbox.register(\"evaluate\", evaluate)\n",
    "toolbox.register(\"mate\", tools.cxTwoPoint)\n",
    "toolbox.register(\"mutate\", tools.mutUniformInt, low=0, up=255, indpb=0.05)\n",
    "toolbox.register(\"select\", tools.selTournament, tournsize=3)\n",
    "\n",
    "# Parallelism\n",
    "pool = Pool(5)\n",
    "toolbox.register(\"map\", pool.map)\n",
    "\n",
    "# Create an initial population of 300 individuals\n",
    "population = toolbox.population(n=30)\n",
    "\n",
    "# Number of generations\n",
    "ngen = 10\n",
    "# Probability with which two individuals are crossed\n",
    "cxpb = 0.7\n",
    "# Probability with which an individual is mutated\n",
    "mutpb = 0.2\n",
    "\n",
    "# Run the algorithm\n",
    "algorithms.eaSimple(\n",
    "    population,\n",
    "    toolbox,\n",
    "    cxpb,\n",
    "    mutpb,\n",
    "    ngen,\n",
    "    stats=None,\n",
    "    halloffame=None,\n",
    "    verbose=True,\n",
    ")\n",
    "\n",
    "# Print the best individual after the evolution\n",
    "fits = [ind.fitness.values[0] for ind in population]\n",
    "length = len(population)\n",
    "mean = sum(fits) / length\n",
    "sum2 = sum(x * x for x in fits)\n",
    "std = abs(sum2 / length - mean**2) ** 0.5\n",
    "print(\"Min %s\" % min(fits))\n",
    "print(\"Max %s\" % max(fits))\n",
    "print(\"Avg %s\" % mean)\n",
    "print(\"Std %s\" % std)\n",
    "\n",
    "best_ind = tools.selBest(population, 1)[0]\n",
    "print(\"Best individual: %s\" % best_ind)\n"
   ]
  },
  {
   "cell_type": "markdown",
   "metadata": {},
   "source": [
    "# Visualize Evolved Result\n"
   ]
  },
  {
   "cell_type": "code",
   "execution_count": null,
   "metadata": {},
   "outputs": [],
   "source": [
    "evaluate(best_ind, viz=True)\n"
   ]
  }
 ],
 "metadata": {
  "kernelspec": {
   "display_name": "Python 3",
   "language": "python",
   "name": "python3"
  },
  "language_info": {
   "codemirror_mode": {
    "name": "ipython",
    "version": 3
   },
   "file_extension": ".py",
   "mimetype": "text/x-python",
   "name": "python",
   "nbconvert_exporter": "python",
   "pygments_lexer": "ipython3"
  }
 },
 "nbformat": 4,
 "nbformat_minor": 5
}
